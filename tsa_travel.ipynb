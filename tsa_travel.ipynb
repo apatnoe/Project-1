{
 "cells": [
  {
   "cell_type": "code",
   "execution_count": 85,
   "metadata": {
    "scrolled": true
   },
   "outputs": [
    {
     "data": {
      "text/html": [
       "<div>\n",
       "<style scoped>\n",
       "    .dataframe tbody tr th:only-of-type {\n",
       "        vertical-align: middle;\n",
       "    }\n",
       "\n",
       "    .dataframe tbody tr th {\n",
       "        vertical-align: top;\n",
       "    }\n",
       "\n",
       "    .dataframe thead th {\n",
       "        text-align: right;\n",
       "    }\n",
       "</style>\n",
       "<table border=\"1\" class=\"dataframe\">\n",
       "  <thead>\n",
       "    <tr style=\"text-align: right;\">\n",
       "      <th></th>\n",
       "      <th>Date</th>\n",
       "      <th>Day of Week</th>\n",
       "      <th>2020 Traveler Throughput</th>\n",
       "      <th>First Day of the Week</th>\n",
       "    </tr>\n",
       "  </thead>\n",
       "  <tbody>\n",
       "    <tr>\n",
       "      <th>305</th>\n",
       "      <td>2020-03-01</td>\n",
       "      <td>Sunday</td>\n",
       "      <td>2280522</td>\n",
       "      <td>2020-12-28</td>\n",
       "    </tr>\n",
       "    <tr>\n",
       "      <th>304</th>\n",
       "      <td>2020-03-02</td>\n",
       "      <td>Monday</td>\n",
       "      <td>2089641</td>\n",
       "      <td>2020-12-28</td>\n",
       "    </tr>\n",
       "    <tr>\n",
       "      <th>303</th>\n",
       "      <td>2020-03-03</td>\n",
       "      <td>Tuesday</td>\n",
       "      <td>1736393</td>\n",
       "      <td>2020-12-28</td>\n",
       "    </tr>\n",
       "    <tr>\n",
       "      <th>302</th>\n",
       "      <td>2020-03-04</td>\n",
       "      <td>Wednesday</td>\n",
       "      <td>1877401</td>\n",
       "      <td>2020-03-04</td>\n",
       "    </tr>\n",
       "    <tr>\n",
       "      <th>301</th>\n",
       "      <td>2020-03-05</td>\n",
       "      <td>Thursday</td>\n",
       "      <td>2130015</td>\n",
       "      <td>2020-03-04</td>\n",
       "    </tr>\n",
       "    <tr>\n",
       "      <th>...</th>\n",
       "      <td>...</td>\n",
       "      <td>...</td>\n",
       "      <td>...</td>\n",
       "      <td>...</td>\n",
       "    </tr>\n",
       "    <tr>\n",
       "      <th>4</th>\n",
       "      <td>2020-12-27</td>\n",
       "      <td>Sunday</td>\n",
       "      <td>1284599</td>\n",
       "      <td>2020-12-23</td>\n",
       "    </tr>\n",
       "    <tr>\n",
       "      <th>3</th>\n",
       "      <td>2020-12-28</td>\n",
       "      <td>Monday</td>\n",
       "      <td>1111751</td>\n",
       "      <td>2020-12-23</td>\n",
       "    </tr>\n",
       "    <tr>\n",
       "      <th>2</th>\n",
       "      <td>2020-12-29</td>\n",
       "      <td>Tuesday</td>\n",
       "      <td>1019347</td>\n",
       "      <td>2020-12-23</td>\n",
       "    </tr>\n",
       "    <tr>\n",
       "      <th>1</th>\n",
       "      <td>2020-12-30</td>\n",
       "      <td>Wednesday</td>\n",
       "      <td>1163696</td>\n",
       "      <td>2020-12-30</td>\n",
       "    </tr>\n",
       "    <tr>\n",
       "      <th>0</th>\n",
       "      <td>2020-12-31</td>\n",
       "      <td>Thursday</td>\n",
       "      <td>874406</td>\n",
       "      <td>2020-12-30</td>\n",
       "    </tr>\n",
       "  </tbody>\n",
       "</table>\n",
       "<p>306 rows × 4 columns</p>\n",
       "</div>"
      ],
      "text/plain": [
       "          Date Day of Week  2020 Traveler Throughput First Day of the Week\n",
       "305 2020-03-01      Sunday                   2280522            2020-12-28\n",
       "304 2020-03-02      Monday                   2089641            2020-12-28\n",
       "303 2020-03-03     Tuesday                   1736393            2020-12-28\n",
       "302 2020-03-04   Wednesday                   1877401            2020-03-04\n",
       "301 2020-03-05    Thursday                   2130015            2020-03-04\n",
       "..         ...         ...                       ...                   ...\n",
       "4   2020-12-27      Sunday                   1284599            2020-12-23\n",
       "3   2020-12-28      Monday                   1111751            2020-12-23\n",
       "2   2020-12-29     Tuesday                   1019347            2020-12-23\n",
       "1   2020-12-30   Wednesday                   1163696            2020-12-30\n",
       "0   2020-12-31    Thursday                    874406            2020-12-30\n",
       "\n",
       "[306 rows x 4 columns]"
      ]
     },
     "execution_count": 85,
     "metadata": {},
     "output_type": "execute_result"
    }
   ],
   "source": [
    "# Dependencies and Setup (dont need most of these for now)\n",
    "import matplotlib.pyplot as plt\n",
    "import pandas as pd\n",
    "import numpy as np\n",
    "import requests\n",
    "import json\n",
    "import time\n",
    "import datetime\n",
    "import scipy.stats as st\n",
    "from scipy.stats import linregress\n",
    "from matplotlib.ticker import ScalarFormatter\n",
    "from pylab import *\n",
    "\n",
    "data_file = \"resources/travel.csv\"\n",
    "tsa_df = pd.read_csv(data_file)\n",
    "del tsa_df[\"2019 Traveler Throughput\"]\n",
    "tsa_df = pd.DataFrame(tsa_df)[::-1]\n",
    "\n",
    "tsa_df[\"Date\"] = pd.to_datetime(tsa_df[\"Date\"])\n",
    "tsa_df\n",
    "\n",
    "for index, row in tsa_df.iterrows():\n",
    "    ofweek = \"\"\n",
    "    for character in row[\"Day of Week\"]:\n",
    "        if character != \",\":\n",
    "            ofweek = ofweek + character\n",
    "        else:\n",
    "            tsa_df.loc[index, \"Day of Week\"] = ofweek\n",
    "            break\n",
    "    \n",
    "    if day == 1:\n",
    "        week = row[\"Date\"]\n",
    "        tsa_df.loc[index, \"First Day of the Week\"] = week\n",
    "        day = day + 1\n",
    "    elif day == 7:\n",
    "        tsa_df.loc[index, \"First Day of the Week\"] = week\n",
    "        day = 1\n",
    "    else:\n",
    "        tsa_df.loc[index, \"First Day of the Week\"] = week\n",
    "        day = day + 1\n",
    "        \n",
    "tsa_df\n"
   ]
  },
  {
   "cell_type": "code",
   "execution_count": 82,
   "metadata": {},
   "outputs": [
    {
     "data": {
      "image/png": "[encoded data removed]",
      "text/plain": [
       "<Figure size 432x288 with 1 Axes>"
      ]
     },
     "metadata": {
      "needs_background": "light"
     },
     "output_type": "display_data"
    },
    {
     "data": {
      "text/plain": [
       "<Figure size 720x216 with 0 Axes>"
      ]
     },
     "metadata": {},
     "output_type": "display_data"
    }
   ],
   "source": [
    "x = tsa_df[\"Date\"]\n",
    "y = tsa_df[\"2020 Traveler Throughput\"]\n",
    "\n",
    "plt.yticks(np.arange(0,2500000, 500000),np.arange(0,2500000, 500000))\n",
    "# plt.yticks(np.arange(0,0,0),np.arange(0,2500000, 500000))\n",
    "plt.gcf().autofmt_xdate()\n",
    "plt.plot(x,y)\n",
    "plt.figure(figsize=(10,3))\n",
    "plt.show()\n"
   ]
  },
  {
   "cell_type": "code",
   "execution_count": 83,
   "metadata": {},
   "outputs": [
    {
     "data": {
      "image/png": "[encoded data removed]",
      "text/plain": [
       "<Figure size 432x288 with 1 Axes>"
      ]
     },
     "metadata": {
      "needs_background": "light"
     },
     "output_type": "display_data"
    }
   ],
   "source": [
    "weekly_df = pd.DataFrame(tsa_df.groupby([\"First Day of the Week\"])[\"2020 Traveler Throughput\"].mean())\n",
    "weekly_df.reset_index(level=0, inplace=True)\n",
    "weekly_df = weekly_df.sort_values([\"First Day of the Week\"], ascending=True)\n",
    "weekly_df = weekly_df.drop(weekly_df.index[43])\n",
    "\n",
    "x = weekly_df[\"First Day of the Week\"]\n",
    "y = weekly_df[\"2020 Traveler Throughput\"]\n",
    "\n",
    "plt.yticks(np.arange(0,2500000, 500000),np.arange(0,2500000, 500000))\n",
    "plt.gcf().autofmt_xdate()\n",
    "plt.plot(x,y)\n",
    "plt.show()\n"
   ]
  },
  {
   "cell_type": "code",
   "execution_count": null,
   "metadata": {},
   "outputs": [],
   "source": []
  }
 ],
 "metadata": {
  "anaconda-cloud": {},
  "kernel_info": {
   "name": "python3"
  },
  "kernelspec": {
   "display_name": "Python 3",
   "language": "python",
   "name": "python3"
  },
  "language_info": {
   "codemirror_mode": {
    "name": "ipython",
    "version": 3
   },
   "file_extension": ".py",
   "mimetype": "text/x-python",
   "name": "python",
   "nbconvert_exporter": "python",
   "pygments_lexer": "ipython3",
   "version": "3.8.5"
  },
  "latex_envs": {
   "LaTeX_envs_menu_present": true,
   "autoclose": false,
   "autocomplete": true,
   "bibliofile": "biblio.bib",
   "cite_by": "apalike",
   "current_citInitial": 1,
   "eqLabelWithNumbers": true,
   "eqNumInitial": 1,
   "hotkeys": {
    "equation": "Ctrl-E",
    "itemize": "Ctrl-I"
   },
   "labels_anchors": false,
   "latex_user_defs": false,
   "report_style_numbering": false,
   "user_envs_cfg": false
  },
  "nteract": {
   "version": "0.12.3"
  }
 },
 "nbformat": 4,
 "nbformat_minor": 2
}
