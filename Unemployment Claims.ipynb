{
 "cells": [
  {
   "cell_type": "code",
   "execution_count": 1,
   "metadata": {},
   "outputs": [],
   "source": [
    "import pandas as pd\n",
    "import matplotlib.pyplot as plt\n",
    "from matplotlib.ticker import FuncFormatter\n",
    "import numpy as np\n",
    "import csv"
   ]
  },
  {
   "cell_type": "code",
   "execution_count": 2,
   "metadata": {},
   "outputs": [
    {
     "data": {
      "text/plain": [
       "'1.1.3'"
      ]
     },
     "execution_count": 2,
     "metadata": {},
     "output_type": "execute_result"
    }
   ],
   "source": [
    "pd.__version__"
   ]
  },
  {
   "cell_type": "code",
   "execution_count": 3,
   "metadata": {},
   "outputs": [],
   "source": [
    "df = pd.read_excel (r'C:\\Users\\13129\\Desktop\\UIClaims2020.xlsx')"
   ]
  },
  {
   "cell_type": "code",
   "execution_count": 4,
   "metadata": {},
   "outputs": [
    {
     "name": "stdout",
     "output_type": "stream",
     "text": [
      "   Week Ending  New Claims  Seasonal Factors  Seasonally Adjusted Data (S.A)  \\\n",
      "0   2020-01-04      335480             158.4                          212000   \n",
      "1   2020-01-11      338550             163.7                          207000   \n",
      "2   2020-01-18      282088             128.5                          220000   \n",
      "3   2020-01-25      229002             108.1                          212000   \n",
      "4   2020-02-01      224664             111.5                          201000   \n",
      "5   2020-02-08      219601             107.9                          204000   \n",
      "6   2020-02-15      209336              97.4                          215000   \n",
      "7   2020-02-22      199278              90.5                          220000   \n",
      "8   2020-02-29      216982              99.8                          217000   \n",
      "9   2020-03-07      200382              95.0                          211000   \n",
      "10  2020-03-14      251416              89.3                          282000   \n",
      "11  2020-03-21     2920162              88.3                         3307000   \n",
      "12  2020-03-28     6015821              87.6                         6867000   \n",
      "13  2020-04-04     6211406              93.9                         6615000   \n",
      "14  2020-04-11     4965046              94.8                         5237000   \n",
      "15  2020-04-18     4281648              96.4                         4442000   \n",
      "16  2020-04-25     3515439              90.9                         3867000   \n",
      "17  2020-05-02     2855561              89.9                         3176000   \n",
      "18  2020-05-09     2356626              87.7                         2687000   \n",
      "19  2020-05-16     2181640              89.2                         2446000   \n",
      "20  2020-05-23     1915138              90.2                         2123000   \n",
      "21  2020-05-30     1620008              85.4                         1897000   \n",
      "22  2020-06-06     1561267              99.7                         1566000   \n",
      "23  2020-06-13     1463363              95.0                         1540000   \n",
      "24  2020-06-20     1460056              98.5                         1482000   \n",
      "25  2020-06-27     1426618             101.3                         1408000   \n",
      "26  2020-07-04     1395081             106.5                         1310000   \n",
      "27  2020-07-11     1512816             115.7                         1308000   \n",
      "28  2020-07-18     1376925              96.8                         1422000   \n",
      "29  2020-07-25     1207045              84.1                         1435000   \n",
      "30  2020-08-01      988309              83.0                         1191000   \n",
      "31  2020-08-08      838734              86.4                          971000   \n",
      "32  2020-08-15      889738              80.6                         1104000   \n",
      "33  2020-08-22      825761              81.7                         1011000   \n",
      "34  2020-08-29      837008          -47248.0                          884000   \n",
      "35  2020-09-05      865995          -27029.0                          893000   \n",
      "36  2020-09-12      796015          -69623.0                          866000   \n",
      "37  2020-09-19      827212          -45732.0                          873000   \n",
      "38  2020-09-26      798996          -49983.0                          849000   \n",
      "39  2020-10-03      731249          -35664.0                          767000   \n",
      "40  2020-10-10      829742          -12520.0                          842000   \n",
      "41  2020-10-17      766520          -30882.0                          797000   \n",
      "42  2020-10-24      738709          -18884.0                          758000   \n",
      "43  2020-10-31      743904          -12785.0                          757000   \n",
      "44  2020-11-07      725361           14313.0                          711000   \n",
      "45  2020-11-14      749338            1011.0                          748000   \n",
      "46  2020-11-21      835914           49371.0                          787000   \n",
      "47  2020-11-28      718522            2304.0                          716000   \n",
      "48  2020-12-05      956473           94637.0                          862000   \n",
      "49  2020-12-12      941910           49900.0                          892000   \n",
      "50  2020-12-19      872941           66888.0                          806000   \n",
      "51  2020-12-26      835972           54233.0                          782000   \n",
      "52  2021-01-02      919680          135360.0                          784000   \n",
      "\n",
      "    Seasonally Adjusted Data (4 Week)  \n",
      "0                              219750  \n",
      "1                              214250  \n",
      "2                              214750  \n",
      "3                              212750  \n",
      "4                              210000  \n",
      "5                              209250  \n",
      "6                              208000  \n",
      "7                              210000  \n",
      "8                              214000  \n",
      "9                              215750  \n",
      "10                             232500  \n",
      "11                            1004250  \n",
      "12                            2666750  \n",
      "13                            4267750  \n",
      "14                            5506500  \n",
      "15                            5790250  \n",
      "16                            5040250  \n",
      "17                            4180500  \n",
      "18                            3543000  \n",
      "19                            3044000  \n",
      "20                            2608000  \n",
      "21                            2288250  \n",
      "22                            2008000  \n",
      "23                            1781500  \n",
      "24                            1621250  \n",
      "25                            1499000  \n",
      "26                            1435000  \n",
      "27                            1377000  \n",
      "28                            1362000  \n",
      "29                            1368750  \n",
      "30                            1339000  \n",
      "31                            1254750  \n",
      "32                            1175250  \n",
      "33                            1069250  \n",
      "34                             992500  \n",
      "35                             973000  \n",
      "36                             913500  \n",
      "37                             879000  \n",
      "38                             870250  \n",
      "39                             838750  \n",
      "40                             832750  \n",
      "41                             813750  \n",
      "42                             791000  \n",
      "43                             788500  \n",
      "44                             755750  \n",
      "45                             743500  \n",
      "46                             750750  \n",
      "47                             740500  \n",
      "48                             778250  \n",
      "49                             814250  \n",
      "50                             819000  \n",
      "51                             835500  \n",
      "52                             818000  \n"
     ]
    }
   ],
   "source": [
    "print (df)"
   ]
  },
  {
   "cell_type": "code",
   "execution_count": 5,
   "metadata": {},
   "outputs": [],
   "source": [
    "import pandas as pd"
   ]
  },
  {
   "cell_type": "code",
   "execution_count": 6,
   "metadata": {},
   "outputs": [
    {
     "data": {
      "text/html": [
       "<div>\n",
       "<style scoped>\n",
       "    .dataframe tbody tr th:only-of-type {\n",
       "        vertical-align: middle;\n",
       "    }\n",
       "\n",
       "    .dataframe tbody tr th {\n",
       "        vertical-align: top;\n",
       "    }\n",
       "\n",
       "    .dataframe thead th {\n",
       "        text-align: right;\n",
       "    }\n",
       "</style>\n",
       "<table border=\"1\" class=\"dataframe\">\n",
       "  <thead>\n",
       "    <tr style=\"text-align: right;\">\n",
       "      <th></th>\n",
       "      <th>Week Ending</th>\n",
       "      <th>New Claims</th>\n",
       "      <th>Seasonal Factors</th>\n",
       "      <th>Seasonally Adjusted Data (S.A)</th>\n",
       "      <th>Seasonally Adjusted Data (4 Week)</th>\n",
       "    </tr>\n",
       "  </thead>\n",
       "  <tbody>\n",
       "    <tr>\n",
       "      <th>0</th>\n",
       "      <td>2020-01-04</td>\n",
       "      <td>335480</td>\n",
       "      <td>158.4</td>\n",
       "      <td>212000</td>\n",
       "      <td>219750</td>\n",
       "    </tr>\n",
       "    <tr>\n",
       "      <th>1</th>\n",
       "      <td>2020-01-11</td>\n",
       "      <td>338550</td>\n",
       "      <td>163.7</td>\n",
       "      <td>207000</td>\n",
       "      <td>214250</td>\n",
       "    </tr>\n",
       "    <tr>\n",
       "      <th>2</th>\n",
       "      <td>2020-01-18</td>\n",
       "      <td>282088</td>\n",
       "      <td>128.5</td>\n",
       "      <td>220000</td>\n",
       "      <td>214750</td>\n",
       "    </tr>\n",
       "    <tr>\n",
       "      <th>3</th>\n",
       "      <td>2020-01-25</td>\n",
       "      <td>229002</td>\n",
       "      <td>108.1</td>\n",
       "      <td>212000</td>\n",
       "      <td>212750</td>\n",
       "    </tr>\n",
       "    <tr>\n",
       "      <th>4</th>\n",
       "      <td>2020-02-01</td>\n",
       "      <td>224664</td>\n",
       "      <td>111.5</td>\n",
       "      <td>201000</td>\n",
       "      <td>210000</td>\n",
       "    </tr>\n",
       "  </tbody>\n",
       "</table>\n",
       "</div>"
      ],
      "text/plain": [
       "  Week Ending  New Claims  Seasonal Factors  Seasonally Adjusted Data (S.A)  \\\n",
       "0  2020-01-04      335480             158.4                          212000   \n",
       "1  2020-01-11      338550             163.7                          207000   \n",
       "2  2020-01-18      282088             128.5                          220000   \n",
       "3  2020-01-25      229002             108.1                          212000   \n",
       "4  2020-02-01      224664             111.5                          201000   \n",
       "\n",
       "   Seasonally Adjusted Data (4 Week)  \n",
       "0                             219750  \n",
       "1                             214250  \n",
       "2                             214750  \n",
       "3                             212750  \n",
       "4                             210000  "
      ]
     },
     "execution_count": 6,
     "metadata": {},
     "output_type": "execute_result"
    }
   ],
   "source": [
    "hsif = pd.read_excel(r'C:\\Users\\13129\\Desktop\\UIClaims2020.xlsx')\n",
    "hsif.head()"
   ]
  },
  {
   "cell_type": "code",
   "execution_count": 7,
   "metadata": {},
   "outputs": [],
   "source": [
    "cols2skip=[2,3,4]"
   ]
  },
  {
   "cell_type": "code",
   "execution_count": 8,
   "metadata": {},
   "outputs": [],
   "source": [
    "cols=[i for i in range(5)if i not in cols2skip]"
   ]
  },
  {
   "cell_type": "code",
   "execution_count": 9,
   "metadata": {},
   "outputs": [
    {
     "data": {
      "text/plain": [
       "[0, 1]"
      ]
     },
     "execution_count": 9,
     "metadata": {},
     "output_type": "execute_result"
    }
   ],
   "source": [
    "cols"
   ]
  },
  {
   "cell_type": "code",
   "execution_count": 10,
   "metadata": {},
   "outputs": [],
   "source": [
    "df = pd.read_excel(r'C:\\Users\\13129\\Desktop\\UIClaims2020.xlsx',usecols=cols)"
   ]
  },
  {
   "cell_type": "code",
   "execution_count": 11,
   "metadata": {},
   "outputs": [
    {
     "name": "stdout",
     "output_type": "stream",
     "text": [
      "   Week Ending  New Claims\n",
      "0   2020-01-04      335480\n",
      "1   2020-01-11      338550\n",
      "2   2020-01-18      282088\n",
      "3   2020-01-25      229002\n",
      "4   2020-02-01      224664\n",
      "5   2020-02-08      219601\n",
      "6   2020-02-15      209336\n",
      "7   2020-02-22      199278\n",
      "8   2020-02-29      216982\n",
      "9   2020-03-07      200382\n",
      "10  2020-03-14      251416\n",
      "11  2020-03-21     2920162\n",
      "12  2020-03-28     6015821\n",
      "13  2020-04-04     6211406\n",
      "14  2020-04-11     4965046\n",
      "15  2020-04-18     4281648\n",
      "16  2020-04-25     3515439\n",
      "17  2020-05-02     2855561\n",
      "18  2020-05-09     2356626\n",
      "19  2020-05-16     2181640\n",
      "20  2020-05-23     1915138\n",
      "21  2020-05-30     1620008\n",
      "22  2020-06-06     1561267\n",
      "23  2020-06-13     1463363\n",
      "24  2020-06-20     1460056\n",
      "25  2020-06-27     1426618\n",
      "26  2020-07-04     1395081\n",
      "27  2020-07-11     1512816\n",
      "28  2020-07-18     1376925\n",
      "29  2020-07-25     1207045\n",
      "30  2020-08-01      988309\n",
      "31  2020-08-08      838734\n",
      "32  2020-08-15      889738\n",
      "33  2020-08-22      825761\n",
      "34  2020-08-29      837008\n",
      "35  2020-09-05      865995\n",
      "36  2020-09-12      796015\n",
      "37  2020-09-19      827212\n",
      "38  2020-09-26      798996\n",
      "39  2020-10-03      731249\n",
      "40  2020-10-10      829742\n",
      "41  2020-10-17      766520\n",
      "42  2020-10-24      738709\n",
      "43  2020-10-31      743904\n",
      "44  2020-11-07      725361\n",
      "45  2020-11-14      749338\n",
      "46  2020-11-21      835914\n",
      "47  2020-11-28      718522\n",
      "48  2020-12-05      956473\n",
      "49  2020-12-12      941910\n",
      "50  2020-12-19      872941\n",
      "51  2020-12-26      835972\n",
      "52  2021-01-02      919680\n"
     ]
    }
   ],
   "source": [
    "print(df)"
   ]
  },
  {
   "cell_type": "code",
   "execution_count": 15,
   "metadata": {},
   "outputs": [
    {
     "data": {
      "text/plain": [
       "<AxesSubplot:xlabel='Week Ending'>"
      ]
     },
     "execution_count": 15,
     "metadata": {},
     "output_type": "execute_result"
    },
    {
     "data": {
      "image/png": "[encoded data removed]",
      "text/plain": [
       "<Figure size 432x288 with 1 Axes>"
      ]
     },
     "metadata": {
      "needs_background": "light"
     },
     "output_type": "display_data"
    }
   ],
   "source": [
    "df = pd.read_excel(r'C:\\Users\\13129\\Desktop\\UIClaims2020.xlsx',usecols=cols)\n",
    "df.plot(x='Week Ending', y='New Claims', kind = 'bar')"
   ]
  },
  {
   "cell_type": "code",
   "execution_count": null,
   "metadata": {},
   "outputs": [],
   "source": []
  }
 ],
 "metadata": {
  "kernelspec": {
   "display_name": "Python 3",
   "language": "python",
   "name": "python3"
  },
  "language_info": {
   "codemirror_mode": {
    "name": "ipython",
    "version": 3
   },
   "file_extension": ".py",
   "mimetype": "text/x-python",
   "name": "python",
   "nbconvert_exporter": "python",
   "pygments_lexer": "ipython3",
   "version": "3.8.5"
  }
 },
 "nbformat": 4,
 "nbformat_minor": 4
}
